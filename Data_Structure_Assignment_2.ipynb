{
  "nbformat": 4,
  "nbformat_minor": 0,
  "metadata": {
    "colab": {
      "provenance": [],
      "toc_visible": true
    },
    "kernelspec": {
      "name": "python3",
      "display_name": "Python 3"
    },
    "language_info": {
      "name": "python"
    }
  },
  "cells": [
    {
      "cell_type": "code",
      "execution_count": null,
      "metadata": {
        "id": "2DozqQ_j1A51"
      },
      "outputs": [],
      "source": []
    },
    {
      "cell_type": "markdown",
      "source": [
        "Theoretical Questions\n",
        "#1.What are data structures, and why are they important?\n",
        "#Ans.Data structures are ways of organizing and storing data to make it easier to access,modify and manage.They are important because they enable efficient data manipulation and problem-solving.Choosing the right data structure optimizes performance making operations like searching,inserting and deleting faster and more memory-efficient.\n",
        "#2.Explain the difference between mutable and immutable data types with examples.\n",
        "#Ans.Mutable data types allow their values to be changed after creation while immutable data types cannot be modified once they are created.For example,lists,dictionaries and sets are mutable because their contents can be modified directly.In contrast,strings,tuples and integers are immutable meaning any change to them results in the creation of a new object.For instance modifying a list element is possible, but trying to change a character in a string will raise an error. The key difference is that mutable objects can be updated in place, whereas immutable objects require new objects for any modification.\n",
        "Example of mutable data types:\n",
        "\n",
        "list = [1, 2, 3, 4]\n",
        "\n",
        "list[0] = 4\n",
        "\n",
        "Example of immutable data types:\n",
        "\n",
        "str = \"hello\"\n",
        "\n",
        "str[0] = H\n",
        "\n",
        "#3.What are the main differences between lists and tuples in Python?\n",
        "#Ans.Main differences between lists and tuples in Python are:\n",
        "Mutability:\n",
        "\n",
        "Lists are mutable.You can modify,add or remove elements after the list is created.\n",
        "Tuples are immutable.Once a tuple is created its elements cannot be changed,added or removed.\n",
        "\n",
        "Use Case:\n",
        "\n",
        "Lists are used when you need to store data that may change (e.g.,adding/removing items).\n",
        "Tuples are used when the data should remain constant and not be modified, offering better performance and safety for fixed collections.\n",
        "\n",
        "Methods:\n",
        "\n",
        "Lists have more built-in methods (like append(),remove(),pop()) for modifying data.\n",
        "Tuples have fewer methods (mostly count() and index()), as they cannot be modified.\n",
        "\n",
        "#4.Describe how dictionaries store data.\n",
        "#Ans.In Python,Dictionaries store data as key-value pairs.Each key is unique and maps to a corresponding value.The data is organized in an unordered way meaning the items are not stored in any specific order.\n",
        "#5.Why might you use a set instead of a list in Python?\n",
        "Ans.I might use a set instead of a list in python to ensure unique elements,as sets automatically eliminate duplicates.Sets also provide faster membership testing compared to lists.They support set operations like union,intersection and difference,which are useful for working with collections of unique items. Additionally, sets are more memory efficient when storing unique values. However,if i need to maintain ordered elements or require indexing and slicing, a list would be more suitable.\n",
        "#6.What is a string in Python, and how is it different from a list?\n",
        "#Ans.A string in python is an immutable sequence of characters used to represent text enclosed in single or double quotes.It cannot be modified after creation.A list on the other hand is a mutable collection that can store elements of any type (including other lists or strings) and can be modified by adding,removing or changing elements.Strings are used specifically for text while lists are more versatile and can hold a variety of data types.Additionally,Strings support methods like .lower() or .upper() while lists support methods like .append() or .remove().\n",
        "#7.How do tuples ensure data integrity in Python?\n",
        "#Ans.Tuples ensure data integrity in python by being immutable, meaning once a tuple is created its elements cannot be modified,added or removed.This immutability prevents accidental changes to the data ensuring its consistency throughout the program.Additionally because tuples are immutable,they can be used as keys in dictionaries or elements in sets maintaining their integrity in situations where data stability is crucial.\n",
        "#8.What is a hash table, and how does it relate to dictionaries in Python?\n",
        "#Ans.A hash table is a data structure that stores key-value pairs and uses a hash function to map keys to specific locations in memory for quick data retrieval.Python dictionaries are implemented using hash tables allowing for efficient access,insertion and deletion of values based on their keys.In Python dictionaries,the keys are hashed to determine where their corresponding values are stored in memory.If two keys hash to the same location,Python uses methods like open addressing or chaining to handle these collisions.\n",
        "#9.Can lists contain different data types in Python?\n",
        "#Ans.Yes,lists in Python can contain elements of different data types.A single list can store various types of data such as integers, strings,floats,booleans and even other lists or objects.This allows for great flexibility in organizing and managing data within a single list.\n",
        "#10.Explain why strings are immutable in Python.\n",
        "#Ans.Strings are immutable in python to ensure data integrity, efficiency and security.Immutability prevents accidental changes to string data allowing for consistent and reliable handling.It also enables memory optimization as identical strings can share memory.Additionally, immutable strings are safer in multi-threaded environments because they cannot be altered by one thread while being accessed by another.\n",
        "#11.What advantages do dictionaries offer over lists for certain tasks?\n",
        "#Ans.Dictionaries offer advantages over lists when you need fast lookups by key as they use a hash table for efficient access.They also store data as key-value pairs making them ideal for tasks where you need to associate data.Dictionaries ensure unique keys automatically unlike lists that can have duplicates.They are also more efficient for updates because you can directly access and modify values using keys.Overall, dictionaries are better for tasks requiring quick access,unique identification and structured data representation.\n",
        "#12.Describe a scenario where using a tuple would be preferable over a list.\n",
        "#Ans.A tuple would be preferable over a list when you need to store data that should remain unchanged throughout the program such as coordinates (latitude and longitude) for a location.Since tuples are immutable they prevent accidental modification of the data ensuring data integrity.Additionally,tuples are more memory-efficient and offer faster access compared to lists making them ideal for fixed collections of items.For example,using a tuple for coordinates conveys that the data is intended to remain constant.\n",
        "#13.How do sets handle duplicate values in Python?\n",
        "#Ans.In Python,sets automatically eliminate duplicate values.If you try to add a duplicate element to a set.It simply ignores the addition and keeps only the unique values.This ensures that a set always contains only unique elements.For example,if you try to add the same value twice, the set will remain unchanged.\n",
        "#14.How does the “in” keyword work differently for lists and dictionaries\n",
        "#Ans.The in keyword works differently for lists and dictionaries in python.In lists, it checks if a specific element is present,returning (True) if the element exists. In dictionaries,it checks if a specific key exists,returning (True) if the key is found.For example,3 in [1, 2, 3] checks for the element 3, while \"a\" in {\"a\": 1, \"b\": 2} checks for the key \"a\".\n",
        "#15.Can you modify the elements of a tuple? Explain why or why not.\n",
        "#Ans.No,we cannot modify the elements of a tuple in python because tuples are immutable.Once a tuple is created its elements cannot be changed,added or removed.This immutability ensures data integrity and allows tuples to be used safely as keys in dictionaries or elements in sets.\n",
        "#16.What is a nested dictionary, and give an example of its use case?\n",
        "#Ans.A nested dictionary is a dictionary where the values are themselves dictionaries allowing you to store complex data.For example, you could use a nested dictionary to store information about employees in a company where each employee's name is a key, and the value is a dictionary containing their job title, department, and contact details.\n",
        "Use case employees info = {\"John\": {\"job_title\": \"Manager\", \"department\": \"Sales\", \"contact\": {\"email\": \"john@email.com\", \"phone\": \"123-456-7890\"}}, \"Sarah\": {\"job_title\": \"Developer\", \"department\": \"IT\", \"contact\": {\"email\": \"sarah@email.com\", \"phone\": \"098-765-4321\"}}\n",
        "We can access to this info through this way: employees[\"Sarah\"][\"email\"][\"phone\"]\n",
        "\n",
        "#17.Describe the time complexity of accessing elements in a dictionary.\n",
        "#Ans.In Python,accessing elements in a dictionary is generally very fast because dictionaries use a hash table.When you provide a key,Python calculates a hash of that key to directly locate the associated value in the table allowing for quick retrieval.While rare,if multiple keys happen to hash to the same location python may need to handle this by checking the other values at that location which could slow things down slightly but overall,dictionary lookups are highly efficient.\n",
        "#18.In what situations are lists preferred over dictionaries?\n",
        "#Ans.Lists are preferred over dictionaries when the order of elements matters as lists maintain the sequence of elements.They are also ideal when elements are accessed by their position (index) such as in cases where you need to process data in a specific order.Lists are better for homogeneous data or simpler tasks that don't require key-value mappings.Additionally,for smaller datasets or scenarios where performance is not a primary concern,lists offer a straightforward and easy-to-use structure.\n",
        "#19.Why are dictionaries considered unordered, and how does that affect data retrieval?\n",
        "#Ans.Dictionaries in python are considered unordered because they store key-value pairs using a hash table which does not maintain the insertion order of elements.While this allows for fast access to values based on their keys it means that dictionaries do not inherently guarantee the order of items.However after new update dictionaries preserve insertion order as an implementation detail but the main focus remains on efficient data retrieval by key.\n",
        "#20.Explain the difference between a list and a dictionary in terms of data retrieval.\n",
        "#Ans.The main difference between a list and a dictionary in terms of data retrieval is how elements are accessed.In a list data is accessed by index (position) and lists are ordered it means the order of elements is preserved.In a dictionary data is accessed by key and dictionaries are optimized for fast lookups by key.While dictionaries are unordered they provide faster access to values compared to lists where you typically have to search sequentially for an element if you don't know its index.\n"
      ],
      "metadata": {
        "id": "EED4Lr1M1EdB"
      }
    },
    {
      "cell_type": "code",
      "source": [
        "#1. Write a code to create a string with your name and print it.\n",
        "name = \"vishal\"\n",
        "print(name)"
      ],
      "metadata": {
        "colab": {
          "base_uri": "https://localhost:8080/"
        },
        "id": "Pc4fpypY1IqQ",
        "outputId": "e546306b-f67b-4a0e-fb97-462f2211cf09"
      },
      "execution_count": 1,
      "outputs": [
        {
          "output_type": "stream",
          "name": "stdout",
          "text": [
            "vishal\n"
          ]
        }
      ]
    },
    {
      "cell_type": "code",
      "source": [
        "#2. Write a code to find the length of the string \"Hello World\".\n",
        "str = \"Hello World\"\n",
        "len(str)\n",
        ""
      ],
      "metadata": {
        "colab": {
          "base_uri": "https://localhost:8080/"
        },
        "id": "Mif8h4yo1W9r",
        "outputId": "6cd5e69a-4ff9-4875-e0fe-31e344749d00"
      },
      "execution_count": 2,
      "outputs": [
        {
          "output_type": "execute_result",
          "data": {
            "text/plain": [
              "11"
            ]
          },
          "metadata": {},
          "execution_count": 2
        }
      ]
    },
    {
      "cell_type": "code",
      "source": [
        "#3. Write a code to slice the first 3 characters from the string \"Python Programming\".\n",
        "str = \"Python Programming\"\n",
        "str[0:3]"
      ],
      "metadata": {
        "colab": {
          "base_uri": "https://localhost:8080/",
          "height": 36
        },
        "id": "l9ZKkFk81grP",
        "outputId": "31954250-677b-48ca-f13d-a27854827317"
      },
      "execution_count": 3,
      "outputs": [
        {
          "output_type": "execute_result",
          "data": {
            "text/plain": [
              "'Pyt'"
            ],
            "application/vnd.google.colaboratory.intrinsic+json": {
              "type": "string"
            }
          },
          "metadata": {},
          "execution_count": 3
        }
      ]
    },
    {
      "cell_type": "code",
      "source": [
        "#4. Write a code to convert the string \"hello\" to uppercase.\n",
        "str = \"hello\"\n",
        "str.upper()"
      ],
      "metadata": {
        "colab": {
          "base_uri": "https://localhost:8080/",
          "height": 36
        },
        "id": "BNB-eQvx1k3p",
        "outputId": "2acc7a01-e251-438e-a37e-7c95fb22d696"
      },
      "execution_count": 4,
      "outputs": [
        {
          "output_type": "execute_result",
          "data": {
            "text/plain": [
              "'HELLO'"
            ],
            "application/vnd.google.colaboratory.intrinsic+json": {
              "type": "string"
            }
          },
          "metadata": {},
          "execution_count": 4
        }
      ]
    },
    {
      "cell_type": "code",
      "source": [
        "#5. Write a code to replace the word \"apple\" with \"orange\" in the string \"I like apple\".\n",
        "str = \"I like apple\"\n",
        "str.replace(\"apple\",\"orange\")"
      ],
      "metadata": {
        "colab": {
          "base_uri": "https://localhost:8080/",
          "height": 36
        },
        "id": "QYGrhDO11ric",
        "outputId": "bbd1035f-4e84-4be3-e878-1282357c8687"
      },
      "execution_count": 5,
      "outputs": [
        {
          "output_type": "execute_result",
          "data": {
            "text/plain": [
              "'I like orange'"
            ],
            "application/vnd.google.colaboratory.intrinsic+json": {
              "type": "string"
            }
          },
          "metadata": {},
          "execution_count": 5
        }
      ]
    },
    {
      "cell_type": "code",
      "source": [
        "#6. Write a code to create a list with numbers 1 to 5 and print it.\n",
        "list = [1, 2, 3, 4, 5]\n",
        "print(list)\n",
        ""
      ],
      "metadata": {
        "colab": {
          "base_uri": "https://localhost:8080/"
        },
        "id": "oDOBGBKO16ve",
        "outputId": "5ac9bd12-b031-477c-a2f1-be6d824725d6"
      },
      "execution_count": 6,
      "outputs": [
        {
          "output_type": "stream",
          "name": "stdout",
          "text": [
            "[1, 2, 3, 4, 5]\n"
          ]
        }
      ]
    },
    {
      "cell_type": "code",
      "source": [
        "#7. Write a code to append the number 10 to the list [1, 2, 3, 4].\n",
        "num = [1, 2, 3, 4]\n",
        "num.append(10)\n",
        "print(num)"
      ],
      "metadata": {
        "colab": {
          "base_uri": "https://localhost:8080/"
        },
        "id": "CSDVOu8g2BR3",
        "outputId": "533da6a5-a452-4a01-bed7-7acb570cc774"
      },
      "execution_count": 7,
      "outputs": [
        {
          "output_type": "stream",
          "name": "stdout",
          "text": [
            "[1, 2, 3, 4, 10]\n"
          ]
        }
      ]
    },
    {
      "cell_type": "code",
      "source": [
        "#8. Write a code to remove the number 3 from the list [1, 2, 3, 4, 5].\n",
        "list = [1, 2, 3, 4, 5]\n",
        "list.remove(3)\n",
        "print(list)"
      ],
      "metadata": {
        "colab": {
          "base_uri": "https://localhost:8080/"
        },
        "id": "4Mueq3aQ2GNC",
        "outputId": "953cdd9a-c6a9-4c9f-da2d-809d8c4d9a0c"
      },
      "execution_count": 8,
      "outputs": [
        {
          "output_type": "stream",
          "name": "stdout",
          "text": [
            "[1, 2, 4, 5]\n"
          ]
        }
      ]
    },
    {
      "cell_type": "code",
      "source": [
        "#9. Write a code to access the second element in the list ['a', 'b', 'c', 'd'].\n",
        "alphabets = ['a', 'b', 'c', 'd']\n",
        "alphabets[1]"
      ],
      "metadata": {
        "colab": {
          "base_uri": "https://localhost:8080/",
          "height": 36
        },
        "id": "MZZW_M_Z2M8t",
        "outputId": "c5d19945-5a7b-424d-9629-a635167a541c"
      },
      "execution_count": 9,
      "outputs": [
        {
          "output_type": "execute_result",
          "data": {
            "text/plain": [
              "'b'"
            ],
            "application/vnd.google.colaboratory.intrinsic+json": {
              "type": "string"
            }
          },
          "metadata": {},
          "execution_count": 9
        }
      ]
    },
    {
      "cell_type": "code",
      "source": [
        "#10. Write a code to reverse the list [10, 20, 30, 40, 50].\n",
        "list = [10, 20, 30, 40, 50]\n",
        "list.reverse()\n",
        "print(list)"
      ],
      "metadata": {
        "colab": {
          "base_uri": "https://localhost:8080/"
        },
        "id": "UpKgaUsX2Qxg",
        "outputId": "5c47e992-d42a-4654-dee5-1c0ffba2106b"
      },
      "execution_count": 10,
      "outputs": [
        {
          "output_type": "stream",
          "name": "stdout",
          "text": [
            "[50, 40, 30, 20, 10]\n"
          ]
        }
      ]
    },
    {
      "cell_type": "code",
      "source": [
        "#11. Write a code to create a tuple with the elements 10, 20, 30 and print it.\n",
        "a = (10, 20, 30)\n",
        "print(a)"
      ],
      "metadata": {
        "colab": {
          "base_uri": "https://localhost:8080/"
        },
        "id": "Yd9NtIVU2UyI",
        "outputId": "c5cae74e-39cd-426f-c6ba-d63f9f791a90"
      },
      "execution_count": 11,
      "outputs": [
        {
          "output_type": "stream",
          "name": "stdout",
          "text": [
            "(10, 20, 30)\n"
          ]
        }
      ]
    },
    {
      "cell_type": "code",
      "source": [
        "#12. Write a code to access the first element of the tuple ('apple', 'banana', 'cherry').\n",
        "fruits = ('apple', 'banana', 'cherry')\n",
        "fruits[0]\n",
        "\n"
      ],
      "metadata": {
        "colab": {
          "base_uri": "https://localhost:8080/",
          "height": 36
        },
        "id": "kT4faBDV2YW3",
        "outputId": "e9aa3741-30f2-49fe-b1a9-0916f6ccdc65"
      },
      "execution_count": 12,
      "outputs": [
        {
          "output_type": "execute_result",
          "data": {
            "text/plain": [
              "'apple'"
            ],
            "application/vnd.google.colaboratory.intrinsic+json": {
              "type": "string"
            }
          },
          "metadata": {},
          "execution_count": 12
        }
      ]
    },
    {
      "cell_type": "code",
      "source": [
        "#13. Write a code to count how many times the number 2 appears in the tuple (1, 2, 3, 2, 4, 2).\n",
        "a = (1, 2, 3, 2, 4, 2)\n",
        "a.count(2)"
      ],
      "metadata": {
        "colab": {
          "base_uri": "https://localhost:8080/"
        },
        "id": "_O0RTphf2cJq",
        "outputId": "9258be76-f3b2-41c6-c6a0-53aab87926e9"
      },
      "execution_count": 13,
      "outputs": [
        {
          "output_type": "execute_result",
          "data": {
            "text/plain": [
              "3"
            ]
          },
          "metadata": {},
          "execution_count": 13
        }
      ]
    },
    {
      "cell_type": "code",
      "source": [
        "#14. Write a code to find the index of the element \"cat\" in the tuple ('dog', 'cat', 'rabbit').\n",
        "animals = ('dog', 'cat', 'rabbit')\n",
        "animals.index('cat')"
      ],
      "metadata": {
        "colab": {
          "base_uri": "https://localhost:8080/"
        },
        "id": "pb1QWDbQ2hN-",
        "outputId": "46a305f6-0feb-426d-c311-b6578bb7e56a"
      },
      "execution_count": 14,
      "outputs": [
        {
          "output_type": "execute_result",
          "data": {
            "text/plain": [
              "1"
            ]
          },
          "metadata": {},
          "execution_count": 14
        }
      ]
    },
    {
      "cell_type": "code",
      "source": [
        "#15. Write a code to check if the element \"banana\" is in the tuple ('apple', 'orange', 'banana').\n",
        "fruits = ('apple', 'orange', 'banana')\n",
        "'banana' in fruits"
      ],
      "metadata": {
        "colab": {
          "base_uri": "https://localhost:8080/"
        },
        "id": "HLJO0-Px2lRn",
        "outputId": "22093cfc-1832-4a18-900e-5ed95434a743"
      },
      "execution_count": 15,
      "outputs": [
        {
          "output_type": "execute_result",
          "data": {
            "text/plain": [
              "True"
            ]
          },
          "metadata": {},
          "execution_count": 15
        }
      ]
    },
    {
      "cell_type": "code",
      "source": [
        "#16. Write a code to create a set with the elements 1, 2, 3, 4, 5 and print it.\n",
        "set ={1, 2, 3, 4, 5}\n",
        "print(set)"
      ],
      "metadata": {
        "colab": {
          "base_uri": "https://localhost:8080/"
        },
        "id": "Kex6wrlb2opu",
        "outputId": "4a28e842-e32d-495e-f7d0-2efaf4e18546"
      },
      "execution_count": 16,
      "outputs": [
        {
          "output_type": "stream",
          "name": "stdout",
          "text": [
            "{1, 2, 3, 4, 5}\n"
          ]
        }
      ]
    },
    {
      "cell_type": "code",
      "source": [
        "#17. Write a code to add the element 6 to the set {1, 2, 3, 4}.\n",
        "set = {1, 2, 3, 4}\n",
        "set.add(6)\n",
        "print(set)"
      ],
      "metadata": {
        "colab": {
          "base_uri": "https://localhost:8080/"
        },
        "id": "rhVYeWYu2sWn",
        "outputId": "600a56f0-cda4-4234-a328-334da28645ee"
      },
      "execution_count": 17,
      "outputs": [
        {
          "output_type": "stream",
          "name": "stdout",
          "text": [
            "{1, 2, 3, 4, 6}\n"
          ]
        }
      ]
    },
    {
      "cell_type": "code",
      "source": [
        "#18. Write a code to create a tuple with the elements 10, 20, 30 and print it.\n",
        "num = (10, 20, 30)\n",
        "print(num)"
      ],
      "metadata": {
        "colab": {
          "base_uri": "https://localhost:8080/"
        },
        "id": "aasmDUjI2vsK",
        "outputId": "07872ac8-8fbc-4229-9122-c797e6fd16cd"
      },
      "execution_count": 18,
      "outputs": [
        {
          "output_type": "stream",
          "name": "stdout",
          "text": [
            "(10, 20, 30)\n"
          ]
        }
      ]
    },
    {
      "cell_type": "code",
      "source": [
        "#19. Write a code to access the first element of the tuple ('apple', 'banana', 'cherry').\n",
        "fruits = ('apple', 'banana', 'cherry')\n",
        "fruits[0]"
      ],
      "metadata": {
        "colab": {
          "base_uri": "https://localhost:8080/",
          "height": 36
        },
        "id": "XqtSdzpP21um",
        "outputId": "8ce7b0b0-e34a-4b1b-e76f-a49786c6642f"
      },
      "execution_count": 19,
      "outputs": [
        {
          "output_type": "execute_result",
          "data": {
            "text/plain": [
              "'apple'"
            ],
            "application/vnd.google.colaboratory.intrinsic+json": {
              "type": "string"
            }
          },
          "metadata": {},
          "execution_count": 19
        }
      ]
    },
    {
      "cell_type": "code",
      "source": [
        "#20. Write a code to count how many times the number 2 appears in the tuple (1, 2, 3, 2, 4, 2).\n",
        "numbers = (1, 2, 3, 2, 4, 2)\n",
        "numbers.count(2)"
      ],
      "metadata": {
        "colab": {
          "base_uri": "https://localhost:8080/"
        },
        "id": "Vy9j85sx24tc",
        "outputId": "8b85c1b1-274a-476a-8f82-7cda11f7884d"
      },
      "execution_count": 20,
      "outputs": [
        {
          "output_type": "execute_result",
          "data": {
            "text/plain": [
              "3"
            ]
          },
          "metadata": {},
          "execution_count": 20
        }
      ]
    },
    {
      "cell_type": "code",
      "source": [
        "#21. Write a code to find the index of the element \"cat\" in the tuple ('dog', 'cat', 'rabbit').\n",
        "animals = ('dog', 'cat', 'rabbit')\n",
        "animals.index('cat')"
      ],
      "metadata": {
        "colab": {
          "base_uri": "https://localhost:8080/"
        },
        "id": "Wvn9NSJs285l",
        "outputId": "8deb8754-f2c6-4ab4-9da6-cf478db4b64b"
      },
      "execution_count": 21,
      "outputs": [
        {
          "output_type": "execute_result",
          "data": {
            "text/plain": [
              "1"
            ]
          },
          "metadata": {},
          "execution_count": 21
        }
      ]
    },
    {
      "cell_type": "code",
      "source": [
        "#22. Write a code to check if the element \"banana\" is in the tuple ('apple', 'orange', 'banana').\n",
        "b = ('apple', 'orange', 'banana')\n",
        "'banana' in b"
      ],
      "metadata": {
        "colab": {
          "base_uri": "https://localhost:8080/"
        },
        "id": "bz9KtOxv3Cz-",
        "outputId": "87de70d2-b36b-4800-e6bc-055fc0260693"
      },
      "execution_count": 22,
      "outputs": [
        {
          "output_type": "execute_result",
          "data": {
            "text/plain": [
              "True"
            ]
          },
          "metadata": {},
          "execution_count": 22
        }
      ]
    },
    {
      "cell_type": "code",
      "source": [
        "#23. Write a code to create a set with the elements 1, 2, 3, 4, 5 and print it.\n",
        "set_numbers = (1, 2, 3, 4, 5)\n",
        "print(set_numbers)"
      ],
      "metadata": {
        "colab": {
          "base_uri": "https://localhost:8080/"
        },
        "id": "oLqiYAAQ3HKh",
        "outputId": "b2dd32e8-2f0a-4c22-d91f-2ef26e9bcd04"
      },
      "execution_count": 23,
      "outputs": [
        {
          "output_type": "stream",
          "name": "stdout",
          "text": [
            "(1, 2, 3, 4, 5)\n"
          ]
        }
      ]
    },
    {
      "cell_type": "code",
      "source": [
        "#24. Write a code to add the element 6 to the set {1, 2, 3, 4}.\n",
        "set = {1, 2, 3, 4}\n",
        "set.add(6)\n",
        "print(set)"
      ],
      "metadata": {
        "colab": {
          "base_uri": "https://localhost:8080/"
        },
        "id": "_xqXSnx93LgT",
        "outputId": "89e3e28e-875d-4506-dd0a-35d8be54c7d6"
      },
      "execution_count": 24,
      "outputs": [
        {
          "output_type": "stream",
          "name": "stdout",
          "text": [
            "{1, 2, 3, 4, 6}\n"
          ]
        }
      ]
    },
    {
      "cell_type": "code",
      "source": [],
      "metadata": {
        "id": "S4sop2wR3QVY"
      },
      "execution_count": null,
      "outputs": []
    }
  ]
}